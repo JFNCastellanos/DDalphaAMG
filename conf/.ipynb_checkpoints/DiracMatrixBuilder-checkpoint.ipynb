{
 "cells": [
  {
   "cell_type": "code",
   "execution_count": 1,
   "id": "e4583165-9d0a-498a-b5c7-849a242cfa97",
   "metadata": {},
   "outputs": [],
   "source": [
    "import numpy as np\n",
    "import struct as struct\n",
    "from struct import unpack\n",
    "import matplotlib.pyplot as plt \n",
    "from scipy.sparse import csr_array\n",
    "from scipy.sparse import csr_matrix\n",
    "import time"
   ]
  },
  {
   "cell_type": "markdown",
   "id": "88d49c1a-a81e-400a-be82-641ca5926c73",
   "metadata": {},
   "source": [
    "conf is a list where each entry contains 18 real double numbers that represent the gauge link $U_\\mu(x)\\in$ SU(3). The configuration layout is the following:\n",
    "\n",
    "```python\n",
    "cont = 0\r",
    "for t in range(Nt):\n",
    "    for z in range(Nz):\n",
    "        for y in range(Ny):\n",
    "            for x in range(Nx):\n",
    "                for m in range(4):\n",
    "                    U[t,z,y,x,mu] = conf[cont] #This is an array with 18 numbers\n",
    "                    cont += 1f\r\n",
    "```"
   ]
  },
  {
   "cell_type": "markdown",
   "id": "1616d631-5668-4333-9669-2fb31893f488",
   "metadata": {},
   "source": [
    "```\n",
    "  U[ 0] = creal( SU3[0][0] );     U[ 1] = cimag( SU3[0][0] );\n",
    "  U[ 2] = creal( SU3[1][0] );     U[ 3] = cimag( SU3[1][0] );\n",
    "  U[ 4] = creal( SU3[2][0] );     U[ 5] = cimag( SU3[2][0] );\n",
    "  \n",
    "  U[ 6] = creal( SU3[0][1] );     U[ 7] = cimag( SU3[0][1] );\n",
    "  U[ 8] = creal( SU3[1][1] );     U[ 9] = cimag( SU3[1][1] );\n",
    "  U[10] = creal( SU3[2][1] );     U[11] = cimag( SU3[2][1] );\n",
    "  \n",
    "  U[12] = creal( SU3[0][2] );     U[13] = cimag( SU3[0][2] );\n",
    "  U[14] = creal( SU3[1][2] );     U[15] = cimag( SU3[1][2] );\n",
    "  U[16] = creal( SU3[2][2] );     U[17] = cimag( SU3[2][2] );\n",
    "```"
   ]
  },
  {
   "cell_type": "code",
   "execution_count": 2,
   "id": "ba633109-c7ec-46f6-a8d0-85f9f81e40b0",
   "metadata": {},
   "outputs": [],
   "source": [
    "def SU3mat(U):\n",
    "    SU3 = np.zeros((3,3),dtype=complex)\n",
    "    for i in range(3):\n",
    "        for j in range(3):\n",
    "            SU3[i,j] = U[2*(i+j*3)] + 1j*U[2*(i+j*3)+1]\n",
    "    return SU3"
   ]
  },
  {
   "cell_type": "code",
   "execution_count": 3,
   "id": "453f471d-7bf6-4893-b959-67c8f573b1d2",
   "metadata": {},
   "outputs": [
    {
     "name": "stdout",
     "output_type": "stream",
     "text": [
      "Lattice dimensions Nt=4, Nz=4, Ny=4, Nx=4\n"
     ]
    }
   ],
   "source": [
    "Nt, Nz, Ny, Nx = 4, 4, 4, 4\n",
    "filename = 'random/{0}x{1}x{2}x{3}_random'.format(Nt,Nz,Ny,Nx)\n",
    "conf = []\n",
    "count = 0\n",
    "with open(filename, \"rb\") as f:\n",
    "    while True:\n",
    "        if count == 0:\n",
    "            struct_fmt = '=4id' \n",
    "            struct_len = struct.calcsize(struct_fmt)\n",
    "            struct_unpack = struct.Struct(struct_fmt).unpack_from #reads lattice dimensions and plaquete 0.0\n",
    "            count += 1\n",
    "            data = f.read(struct_len)\n",
    "            s = struct_unpack(data)\n",
    "            print('Lattice dimensions Nt={0}, Nz={1}, Ny={2}, Nx={3}'.format(s[0],s[1],s[2],s[3]))\n",
    "        elif count == 1:\n",
    "            struct_fmt = '=18d' \n",
    "            struct_len = struct.calcsize(struct_fmt)\n",
    "            struct_unpack = struct.Struct(struct_fmt).unpack_from\n",
    "            data = f.read(struct_len)\n",
    "            if not data: break   \n",
    "            s = struct_unpack(data)\n",
    "            conf.append(s) #SU(3) elements, i.e. 18 double (real) numbers"
   ]
  },
  {
   "cell_type": "code",
   "execution_count": 4,
   "id": "a9d0897d-758f-4f1c-b7aa-d41815f153a1",
   "metadata": {},
   "outputs": [
    {
     "name": "stdout",
     "output_type": "stream",
     "text": [
      "<class 'tuple'>\n",
      "No of elements 18\n",
      "Gauge link number 0 \n",
      "\n",
      "0.999999976516486\n",
      "6.361976744417329e-05\n",
      "-0.000132058947480268\n",
      "-0.00013242378002776227\n",
      "8.410698821105984e-05\n",
      "2.949481389524076e-05\n",
      "0.00013198407540774518\n",
      "-0.00013233498644158495\n",
      "0.9999746451577786\n",
      "0.003005696294670387\n",
      "0.00387286327295512\n",
      "0.00516147547540899\n",
      "-8.38441473933943e-05\n",
      "3.09413443345731e-05\n",
      "-0.0038725198061583957\n",
      "0.00516172898231158\n",
      "0.999974465407138\n",
      "-0.0030693143802722283\n",
      "SU(3) matrix\n",
      "(0.999999976516486+6.361976744417329e-05j) (0.00013198407540774518-0.00013233498644158495j) (-8.38441473933943e-05+3.09413443345731e-05j) \n",
      "(-0.000132058947480268-0.00013242378002776227j) (0.9999746451577786+0.003005696294670387j) (-0.0038725198061583957+0.00516172898231158j) \n",
      "(8.410698821105984e-05+2.949481389524076e-05j) (0.00387286327295512+0.00516147547540899j) (0.999974465407138-0.0030693143802722283j) \n"
     ]
    }
   ],
   "source": [
    "n = 0\n",
    "print(type(conf[n]))\n",
    "N = len(conf[n])\n",
    "SU = SU3mat(conf[n])\n",
    "print('No of elements',N)\n",
    "print('Gauge link number',n,'\\n')\n",
    "for i in range(N):\n",
    "    print(conf[n][i])\n",
    "print('SU(3) matrix')\n",
    "for i in range(3):\n",
    "    for j in range(3):\n",
    "        print(SU[i,j],end=\" \")\n",
    "    print('')"
   ]
  },
  {
   "cell_type": "markdown",
   "id": "bb773691-956a-437d-8e71-4c4dae9213f2",
   "metadata": {},
   "source": [
    "$$\n",
    "\\gamma_3 = \\gamma_t = \\begin{pmatrix} \n",
    "0 & 0 & 1 & 0 \\\\\n",
    "0 & 0 & 0 & 1 \\\\\n",
    "1 & 0 & 0 & 0 \\\\\n",
    "0 & 1 & 0 & 0\n",
    "\\end{pmatrix}, \\quad \\gamma_2 = \\gamma_z = \\begin{pmatrix} \n",
    "0 & 0 & i & 0 \\\\\n",
    "0 & 0 & 0 & -i \\\\\n",
    "-i & 0 & 0 & 0 \\\\\n",
    "0 & i & 0 & 0\n",
    "\\end{pmatrix}, \\quad \\gamma_1 = \\gamma_y = \\begin{pmatrix} \n",
    "0 & 0 & 0 & -1 \\\\\n",
    "0 & 0 & 1 & 0 \\\\\n",
    "0 & 1 & 0 & 0 \\\\\n",
    "-1 & 0 & 0 & 0\n",
    "\\end{pmatrix}, \\quad \\gamma_0 = \\gamma_x = \\begin{pmatrix} \n",
    "0 & 0 & 0 & i \\\\\n",
    "0 & 0 & i & 0 \\\\\n",
    "0 & -i & 0 & 0 \\\\\n",
    "-i & 0 & 0 & 0\n",
    "\\end{pmatrix}\n",
    "$$"
   ]
  },
  {
   "cell_type": "code",
   "execution_count": 5,
   "id": "7eecc8aa-c03d-40f7-917a-8e4bf157d5cb",
   "metadata": {},
   "outputs": [
    {
     "name": "stdout",
     "output_type": "stream",
     "text": [
      "[[ 0.+0.j  0.+0.j  0.+0.j  0.+1.j]\n",
      " [ 0.+0.j  0.+0.j  0.+1.j  0.+0.j]\n",
      " [ 0.+0.j -0.-1.j  0.+0.j  0.+0.j]\n",
      " [-0.-1.j  0.+0.j  0.+0.j  0.+0.j]]\n",
      "[[ 0  0  0 -1]\n",
      " [ 0  0  1  0]\n",
      " [ 0  1  0  0]\n",
      " [-1  0  0  0]]\n",
      "[[ 0.+0.j  0.+0.j  0.+1.j  0.+0.j]\n",
      " [ 0.+0.j  0.+0.j  0.+0.j -0.-1.j]\n",
      " [-0.-1.j  0.+0.j  0.+0.j  0.+0.j]\n",
      " [ 0.+0.j  0.+1.j  0.+0.j  0.+0.j]]\n",
      "[[0 0 1 0]\n",
      " [0 0 0 1]\n",
      " [1 0 0 0]\n",
      " [0 1 0 0]]\n"
     ]
    }
   ],
   "source": [
    "#Dirac matrices\n",
    "gamma0 = np.array([[0,0,0,1j],[0,0,1j,0],[0,-1j,0,0],[-1j,0,0,0]])\n",
    "gamma1 = np.array([[0,0,0,-1],[0,0,1,0],[0,1,0,0],[-1,0,0,0]])\n",
    "gamma2 = np.array([[0,0,1j,0],[0,0,0,-1j],[-1j,0,0,0],[0,1j,0,0]])\n",
    "gamma3 = np.array([[0,0,1,0],[0,0,0,1],[1,0,0,0],[0,1,0,0]])\n",
    "print(gamma0)\n",
    "print(gamma1)\n",
    "print(gamma2)\n",
    "print(gamma3)\n",
    "gammaMatrices = [gamma0,gamma1,gamma2,gamma3]"
   ]
  },
  {
   "cell_type": "code",
   "execution_count": 6,
   "id": "30b2a86b-3749-4614-87b9-28f2b7d5a7ea",
   "metadata": {},
   "outputs": [],
   "source": [
    "#This allows us to identify the matrix rows or columns with the space-time and color coordinates (x,y,z,t,c,s)\n",
    "Indices = {'x':[],'y':[],'z':[],'t':[],'c':[],'s':[]}\n",
    "C, S = 3, 4 #Color (related to the dimension of U_mu) and S (related to the dimension of gamma)\n",
    "VectorCoords = []\n",
    "for t in range(Nt):\n",
    "    for z in range(Nz):\n",
    "        for y in range(Ny):\n",
    "            for x in range(Nx):\n",
    "                for mu in range(4):\n",
    "                    VectorCoords.append( t*Nz*Ny*Nx*4 + z*Ny*Nx*4 + y*Nx*4 + x*4 + mu)\n",
    "                for s in range(S):\n",
    "                    for c in range(C):\n",
    "                        #print(t*Nz*Ny*Nx*C*S + z*Ny*Nx*S*C + y*Nx*S*C + x*S*C + s*C + c) #Coordinates vectorization\n",
    "                        Indices['x'].append(x)\n",
    "                        Indices['y'].append(y)\n",
    "                        Indices['z'].append(z)\n",
    "                        Indices['t'].append(t)\n",
    "                        Indices['c'].append(c)\n",
    "                        Indices['s'].append(s)\n",
    "Indices['x'] = np.array(Indices['x'])\n",
    "Indices['y'] = np.array(Indices['y'])\n",
    "Indices['z'] = np.array(Indices['z'])\n",
    "Indices['t'] = np.array(Indices['t'])\n",
    "Indices['c'] = np.array(Indices['c'])\n",
    "Indices['s'] = np.array(Indices['s'])\n",
    "IdentityV = np.identity(Nx*Ny*Nz*Nt)\n",
    "I4 = np.identity(4)\n",
    "I3 = np.identity(3)\n",
    "VectorCoords = np.array(VectorCoords)"
   ]
  },
  {
   "cell_type": "code",
   "execution_count": 7,
   "id": "a9fa9ba0-4b92-4571-a30a-e209528d1e33",
   "metadata": {},
   "outputs": [],
   "source": [
    "#Kronecker delta. \n",
    "def kDelta(u,v):\n",
    "    \"\"\"\n",
    "    For scalars\n",
    "    \"\"\"\n",
    "    if u == v:\n",
    "        return 1\n",
    "    else:\n",
    "        return 0\n",
    "\n",
    "def kDeltaArr(u,v):\n",
    "    \"\"\"\n",
    "    For arrays\n",
    "    \"\"\"\n",
    "    if all(u == v):\n",
    "        return 1\n",
    "    else:\n",
    "        return 0\n",
    "\n",
    "def Coord(n,mu):\n",
    "    \"\"\"\n",
    "    returns a number for coordinate [nt,nz,ny,nz,mu]\n",
    "    This agrees with the configuration layout\n",
    "    \"\"\"\n",
    "    t,z,y,x = n\n",
    "    return t*Nz*Ny*Nx*4 + z*Ny*Nx*4 + y*Nx*4 + x*4 + mu\n",
    "\n",
    "def PeriodicBoundary(n,m,Dim):\n",
    "    \"\"\"\n",
    "    n+m with periodic boundary conditions\n",
    "    \"\"\"\n",
    "    Nx, Ny, Nz, Nt = Dim\n",
    "    return np.array([(n[0] + m[0])%Nx, (n[1] + m[1])%Ny, (n[2] + m[2])%Nz, (n[3] + m[3])%Nt])\n",
    "   \n",
    "\n",
    "def DiracEntry(alfa,beta,a,b,n,m,m0,h,Dim):\n",
    "    \"\"\"\n",
    "    alfa, beta: 0,1,2,3 (spin indices)\n",
    "    c, d: 0,1,2 (color indices)\n",
    "    n, m: 0,1,...,Nx Ny Nz Nt (volume)\n",
    "    m0: bare mass\n",
    "    h: lattice spacing\n",
    "    \"\"\"\n",
    "    #Conf[coord(n,mu)] gives U_mu(n)\n",
    "    #Dim = [Nx,Ny,Nz,Nt]\n",
    "    hat = [np.array([1,0,0,0]),np.array([0,1,0,0]),np.array([0,0,1,0]),np.array([0,0,0,1])] #[hat{x},hat{y},hat{z},hat{t}]\n",
    "    n = np.array([Indices['x'][n], Indices['y'][n], Indices['z'][n], Indices['t'][n]]) #n = [x,y,z,t]\n",
    "    m = np.array([Indices['x'][m], Indices['y'][m], Indices['z'][m], Indices['t'][m]]) #n = [x,y,z,t]\n",
    "    #Dnm = (m0+4)/h * kDelta(alfa,beta)*kDelta(a,b)*kDeltaArr(n,m)\n",
    "    Dnm = (m0+4)/h * I4[alfa,beta]*I3[a,b]*kDeltaArr(n,m)\n",
    "    #sum over mu\n",
    "    for mu in range(4):\n",
    "        n_mu = PeriodicBoundary(n,-hat[mu],Dim) #n-hat{mu} with periodic boundary\n",
    "        n_pmu = PeriodicBoundary(n,hat[mu],Dim) #n+hat{mu} with periodic boundary\n",
    "        if kDeltaArr(n_pmu,m) != 0 or kDeltaArr(n_mu,m) != 0:\n",
    "            Un = conf[Coord(n,mu)] #SU3mat(conf[Coord(n,mu)]) #U_mu(n)\n",
    "            Un_mu = conf[Coord(n_mu,mu)] #SU3mat(conf[Coord(n_mu,mu)]) #U_mu(n-hat{mu})\n",
    "            \n",
    "            #SU[i,j] = U[2*(i+j*3)] + 1j*U[2*(i+j*3)+1]\n",
    "            Unab = Un[2*(a+b*3)] + 1j*Un[2*(a+b*3)+1] #U_mu(n)[a,b]\n",
    "            Un_mu_ba = Un_mu[2*(b+a*3)] + 1j*Un_mu[2*(b+a*3)+1] #U^dagger_m(n-hat{mu})[a,b]\n",
    "            \n",
    "            Dnm += -1 / (2*h) * (I4-gammaMatrices[mu])[alfa,beta] * Unab * kDeltaArr(n_pmu,m) #delta n+mu,m\n",
    "            Dnm += -1 / (2*h) * (I4+gammaMatrices[mu])[alfa,beta] * np.conjugate(Un_mu_ba) * kDeltaArr(n_mu,m) #delta n-mu,m\n",
    "    return Dnm\n",
    "\n",
    "def DiracMatrixNonZero(Nt,Nx,Ny,Nz,m0=1,h=1):\n",
    "    N = 12*Nt*Nx*Ny*Nz\n",
    "    Dim = np.array([Nx,Ny,Nz,Nt])\n",
    "    row, col, D = [], [], []\n",
    "    for n in range(N):\n",
    "        xn, yn, zn, tn = Indices['x'][n], Indices['y'][n], Indices['z'][n], Indices['t'][n]\n",
    "        cn, sn = Indices['c'][n], Indices['s'][n] \n",
    "        for m in range(N):\n",
    "            xm, ym, zm, tm = Indices['x'][m], Indices['y'][m], Indices['z'][m], Indices['t'][m]\n",
    "            cm, sm = Indices['c'][m], Indices['s'][m] \n",
    "            Dnm = DiracEntry(sn,sm,cn,cm,n,m,m0,h,Dim)\n",
    "            if abs(Dnm)>1e-12:\n",
    "                row.append(n)\n",
    "                col.append(m) \n",
    "                D.append(Dnm)        \n",
    "    return np.array(row), np.array(col), np.array(D)"
   ]
  },
  {
   "cell_type": "code",
   "execution_count": 8,
   "id": "58ba8409-e5d4-455d-aadc-8ce84a30ce95",
   "metadata": {},
   "outputs": [
    {
     "name": "stdout",
     "output_type": "stream",
     "text": [
      "Time=162.0956835746765 s\n"
     ]
    }
   ],
   "source": [
    "start = time.time()\n",
    "row, col, D = DiracMatrixNonZero(Nt,Nx,Ny,Nz)\n",
    "end = time.time()\n",
    "print('Time={0} s'.format(end - start))"
   ]
  },
  {
   "cell_type": "code",
   "execution_count": 9,
   "id": "27e9b9b8-d657-46fc-b492-415a9451e954",
   "metadata": {},
   "outputs": [],
   "source": [
    "Dsparse = csr_array((D, (row, col)))"
   ]
  },
  {
   "cell_type": "code",
   "execution_count": 10,
   "id": "77ed7226-7a5c-475b-bf5d-fc1821eae350",
   "metadata": {},
   "outputs": [
    {
     "data": {
      "image/png": "[encoded data removed]",
      "text/plain": [
       "<Figure size 640x480 with 1 Axes>"
      ]
     },
     "metadata": {},
     "output_type": "display_data"
    }
   ],
   "source": [
    "#Sparsity pattern. This could take a couple of seconds \n",
    "fig = plt.figure()\n",
    "plt.spy(Dsparse)\n",
    "plt.title(\"Sparsity pattern of the Dirac matrix\")\n",
    "plt.xlabel(\"row\")\n",
    "plt.ylabel(\"column\")\n",
    "plt.show()"
   ]
  },
  {
   "cell_type": "code",
   "execution_count": 11,
   "id": "41c96c3c-4865-46c7-bb0b-2386ee8548ac",
   "metadata": {},
   "outputs": [
    {
     "data": {
      "text/plain": [
       "150528"
      ]
     },
     "execution_count": 11,
     "metadata": {},
     "output_type": "execute_result"
    }
   ],
   "source": [
    "#150528 for Nx=Ny=Nz=Nt = 4\n",
    "len(D)"
   ]
  },
  {
   "cell_type": "code",
   "execution_count": 12,
   "id": "ed78f454-4be5-4b68-a1b5-6bfd80b8bdf7",
   "metadata": {},
   "outputs": [
    {
     "name": "stdout",
     "output_type": "stream",
     "text": [
      "0 0 (5+0j)\n",
      "0 12 (-0.499999988258243-3.1809883722086645e-05j)\n",
      "0 13 (-6.599203770387259e-05+6.616749322079247e-05j)\n",
      "0 14 (4.192207369669715e-05-1.547067216728655e-05j)\n",
      "0 21 (-3.1809883722086645e-05+0.499999988258243j)\n",
      "0 22 (6.616749322079247e-05+6.599203770387259e-05j)\n",
      "0 23 (-1.547067216728655e-05-4.192207369669715e-05j)\n",
      "0 36 (-0.49999999569022235-2.9235666782521443e-05j)\n",
      "0 37 (-4.902357914248793e-06+2.3113760930033966e-06j)\n",
      "0 38 (4.30102802673416e-05-3.969626622441024e-05j)\n",
      "0 45 (2.9235666782521443e-05-0.49999999569022235j)\n",
      "0 46 (-2.3113760930033966e-06-4.902357914248793e-06j)\n",
      "0 47 (3.969626622441024e-05+4.30102802673416e-05j)\n",
      "0 48 (-0.49999997049048167+0.0001294689713283469j)\n",
      "0 49 (-5.935178847968031e-06-4.8726217501869685e-05j)\n",
      "0 50 (7.761958446710636e-05-6.567368108742189e-05j)\n",
      "0 57 (-0.49999997049048167+0.0001294689713283469j)\n",
      "0 58 (-5.935178847968031e-06-4.8726217501869685e-05j)\n",
      "0 59 (7.761958446710636e-05-6.567368108742189e-05j)\n",
      "0 144 (-0.4999999392999214-4.913569183742151e-05j)\n",
      "0 145 (-0.00014291518937312598-0.00014137743666869007j)\n",
      "0 146 (4.501466618835245e-05-0.00012588529535053966j)\n",
      "0 153 (0.4999999392999214+4.913569183742151e-05j)\n",
      "0 154 (0.00014291518937312598+0.00014137743666869007j)\n",
      "0 155 (-4.501466618835245e-05+0.00012588529535053966j)\n",
      "0 192 (-0.4999999905912836-1.9485445196464323e-05j)\n",
      "0 193 (6.242485530631069e-05-2.2974390774942448e-05j)\n",
      "0 194 (-6.780947789535732e-05+2.4946475109613925e-06j)\n",
      "0 198 (-1.9485445196464323e-05+0.4999999905912836j)\n",
      "0 199 (-2.2974390774942448e-05-6.242485530631069e-05j)\n",
      "0 200 (2.4946475109613925e-06+6.780947789535732e-05j)\n",
      "0 576 (-0.49999360350778865-0.0008627537740268395j)\n",
      "0 577 (0.0014532647378237673-0.001236114473703733j)\n",
      "0 578 (-0.0005276684635831706+0.0013167064304024216j)\n",
      "0 582 (0.0008627537740268395-0.49999360350778865j)\n",
      "0 583 (0.001236114473703733+0.0014532647378237673j)\n",
      "0 584 (-0.0013167064304024216-0.0005276684635831706j)\n",
      "0 768 (-0.4999999795435-0.00010398110133677314j)\n",
      "0 769 (-8.76601960494777e-06+1.0261930622077596e-05j)\n",
      "0 770 (3.090313582599127e-05+9.223489586656248e-05j)\n",
      "0 774 (0.4999999795435+0.00010398110133677314j)\n",
      "0 775 (8.76601960494777e-06-1.0261930622077596e-05j)\n",
      "0 776 (-3.090313582599127e-05-9.223489586656248e-05j)\n",
      "0 2304 (-0.49999947717028-0.0003185813517325141j)\n",
      "0 2305 (0.00024756106917786606-0.00039879530251384657j)\n",
      "0 2306 (0.0003647232497023783-0.00026074536219920384j)\n",
      "0 2310 (-0.49999947717028-0.0003185813517325141j)\n",
      "0 2311 (0.00024756106917786606-0.00039879530251384657j)\n",
      "0 2312 (0.0003647232497023783-0.00026074536219920384j)\n",
      "1 1 (5+0j)\n",
      "1 12 (6.6029473740134e-05+6.621189001388114e-05j)\n",
      "1 13 (-0.4999873225788893-0.0015028481473351935j)\n",
      "1 14 (0.0019362599030791979-0.00258086449115579j)\n",
      "1 21 (6.621189001388114e-05-6.6029473740134e-05j)\n",
      "1 22 (-0.0015028481473351935+0.4999873225788893j)\n",
      "1 23 (-0.00258086449115579-0.0019362599030791979j)\n",
      "1 36 (4.90400341137742e-06+2.291079998519154e-06j)\n",
      "1 37 (-0.49999995915807116+0.0001142596803498231j)\n",
      "1 38 (-0.00010490644449594109-0.00012942948738108175j)\n",
      "1 45 (-2.291079998519154e-06+4.90400341137742e-06j)\n",
      "1 46 (-0.0001142596803498231-0.49999995915807116j)\n",
      "1 47 (0.00012942948738108175-0.00010490644449594109j)\n",
      "1 48 (5.934056830024978e-06-4.87282398706701e-05j)\n",
      "1 49 (-0.4999999946107674-3.912025144547607e-05j)\n",
      "1 50 (2.5832170161993135e-05-2.7962172504257292e-05j)\n",
      "1 57 (5.934056830024978e-06-4.87282398706701e-05j)\n",
      "1 58 (-0.4999999946107674-3.912025144547607e-05j)\n",
      "1 59 (2.5832170161993135e-05-2.7962172504257292e-05j)\n",
      "1 144 (0.0001429544310354223-0.00014133199930187253j)\n",
      "1 145 (-0.499999951873746-5.597668513453455e-05j)\n",
      "1 146 (6.6196805154175e-05-1.4147155646555849e-05j)\n",
      "1 153 (-0.0001429544310354223+0.00014133199930187253j)\n",
      "1 154 (0.499999951873746+5.597668513453455e-05j)\n",
      "1 155 (-6.6196805154175e-05+1.4147155646555849e-05j)\n",
      "1 192 (-6.243247880715365e-05-2.2990686128550225e-05j)\n",
      "1 193 (-0.4999999825960502-1.1355813497031054e-05j)\n",
      "1 194 (6.995517769780764e-05+8.9190145024912e-05j)\n",
      "1 198 (-2.2990686128550225e-05+6.243247880715365e-05j)\n",
      "1 199 (-1.1355813497031054e-05+0.4999999825960502j)\n",
      "1 200 (8.9190145024912e-05-6.995517769780764e-05j)\n",
      "1 576 (-0.0014513356144924443-0.0012385594303956614j)\n",
      "1 577 (-0.49999635665616127+2.9367492190073646e-05j)\n",
      "1 578 (2.298739177486166e-05-3.918120121547843e-05j)\n",
      "1 582 (0.0012385594303956614-0.0014513356144924443j)\n",
      "1 583 (-2.9367492190073646e-05-0.49999635665616127j)\n",
      "1 584 (3.918120121547843e-05+2.298739177486166e-05j)\n",
      "1 768 (8.745141375684346e-06+1.0259927224984038e-05j)\n",
      "1 769 (-0.49999998536126394-7.726565920549497e-05j)\n",
      "1 770 (-2.7890265947512073e-06-9.208274253523185e-05j)\n",
      "1 774 (-8.745141375684346e-06-1.0259927224984038e-05j)\n",
      "1 775 (0.49999998536126394+7.726565920549497e-05j)\n",
      "1 776 (2.7890265947512073e-06+9.208274253523185e-05j)\n",
      "1 2304 (-0.00024730649261238386-0.00039897006042651433j)\n",
      "1 2305 (-0.4999997721132453+5.358454064894377e-05j)\n",
      "1 2306 (1.1039417491070888e-05-6.749756012058378e-05j)\n",
      "1 2310 (-0.00024730649261238386-0.00039897006042651433j)\n",
      "1 2311 (-0.4999997721132453+5.358454064894377e-05j)\n",
      "1 2312 (1.1039417491070888e-05-6.749756012058378e-05j)\n",
      "2 2 (5+0j)\n",
      "2 12 (-4.205349410552992e-05-1.474740694762038e-05j)\n"
     ]
    }
   ],
   "source": [
    "for i in range(100):\n",
    "    print(row[i],col[i],D[i])"
   ]
  },
  {
   "cell_type": "code",
   "execution_count": null,
   "id": "8cb9a00a-44e7-4cf3-83d5-196d06698341",
   "metadata": {},
   "outputs": [],
   "source": []
  }
 ],
 "metadata": {
  "kernelspec": {
   "display_name": "Python 3 (ipykernel)",
   "language": "python",
   "name": "python3"
  },
  "language_info": {
   "codemirror_mode": {
    "name": "ipython",
    "version": 3
   },
   "file_extension": ".py",
   "mimetype": "text/x-python",
   "name": "python",
   "nbconvert_exporter": "python",
   "pygments_lexer": "ipython3",
   "version": "3.11.9"
  }
 },
 "nbformat": 4,
 "nbformat_minor": 5
}
