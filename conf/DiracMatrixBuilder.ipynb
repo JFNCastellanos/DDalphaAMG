{
 "cells": [
  {
   "cell_type": "code",
   "execution_count": 1,
   "id": "e4583165-9d0a-498a-b5c7-849a242cfa97",
   "metadata": {},
   "outputs": [],
   "source": [
    "import numpy as np\n",
    "import struct as struct\n",
    "from struct import unpack\n",
    "import matplotlib.pyplot as plt \n",
    "from scipy.sparse import csr_array\n",
    "import time"
   ]
  },
  {
   "cell_type": "markdown",
   "id": "88d49c1a-a81e-400a-be82-641ca5926c73",
   "metadata": {},
   "source": [
    "conf is a list where each entry contains 18 real double numbers that represent the gauge link $U_\\mu(x)\\in$ SU(3). The configuration layout is the following:\n",
    "\n",
    "```python\n",
    "cont = 0\r",
    "for t in range(Nt):\n",
    "    for z in range(Nz):\n",
    "        for y in range(Ny):\n",
    "            for x in range(Nx):\n",
    "                for m in range(4):\n",
    "                    U[t,z,y,x,mu] = conf[cont] #This is an array with 18 numbers\n",
    "                    cont += 1f\r\n",
    "```"
   ]
  },
  {
   "cell_type": "markdown",
   "id": "1616d631-5668-4333-9669-2fb31893f488",
   "metadata": {},
   "source": [
    "```\n",
    "  U[ 0] = creal( SU3[0][0] );     U[ 1] = cimag( SU3[0][0] );\n",
    "  U[ 2] = creal( SU3[1][0] );     U[ 3] = cimag( SU3[1][0] );\n",
    "  U[ 4] = creal( SU3[2][0] );     U[ 5] = cimag( SU3[2][0] );\n",
    "  \n",
    "  U[ 6] = creal( SU3[0][1] );     U[ 7] = cimag( SU3[0][1] );\n",
    "  U[ 8] = creal( SU3[1][1] );     U[ 9] = cimag( SU3[1][1] );\n",
    "  U[10] = creal( SU3[2][1] );     U[11] = cimag( SU3[2][1] );\n",
    "  \n",
    "  U[12] = creal( SU3[0][2] );     U[13] = cimag( SU3[0][2] );\n",
    "  U[14] = creal( SU3[1][2] );     U[15] = cimag( SU3[1][2] );\n",
    "  U[16] = creal( SU3[2][2] );     U[17] = cimag( SU3[2][2] );\n",
    "```"
   ]
  },
  {
   "cell_type": "code",
   "execution_count": 4,
   "id": "ba633109-c7ec-46f6-a8d0-85f9f81e40b0",
   "metadata": {},
   "outputs": [],
   "source": [
    "def SU3mat(U):\n",
    "    SU3 = np.zeros((3,3),dtype=complex)\n",
    "    for i in range(3):\n",
    "        for j in range(3):\n",
    "            SU3[i,j] = U[2*(i+j*3)] + 1j*U[2*(i+j*3)+1]\n",
    "    return SU3"
   ]
  },
  {
   "cell_type": "code",
   "execution_count": 5,
   "id": "453f471d-7bf6-4893-b959-67c8f573b1d2",
   "metadata": {},
   "outputs": [
    {
     "name": "stdout",
     "output_type": "stream",
     "text": [
      "Lattice dimensions Nt=4, Nz=4, Ny=4, Nx=4\n"
     ]
    }
   ],
   "source": [
    "Nt, Nz, Ny, Nx = 4, 4, 4, 4\n",
    "filename = '{0}x{1}x{2}x{3}_random'.format(Nt,Nz,Ny,Nx)\n",
    "conf = []\n",
    "count = 0\n",
    "with open(filename, \"rb\") as f:\n",
    "    while True:\n",
    "        if count == 0:\n",
    "            struct_fmt = '=4id' \n",
    "            struct_len = struct.calcsize(struct_fmt)\n",
    "            struct_unpack = struct.Struct(struct_fmt).unpack_from #reads lattice dimensions and plaquete 0.0\n",
    "            count += 1\n",
    "            data = f.read(struct_len)\n",
    "            s = struct_unpack(data)\n",
    "            print('Lattice dimensions Nt={0}, Nz={1}, Ny={2}, Nx={3}'.format(s[0],s[1],s[2],s[3]))\n",
    "        elif count == 1:\n",
    "            struct_fmt = '=18d' \n",
    "            struct_len = struct.calcsize(struct_fmt)\n",
    "            struct_unpack = struct.Struct(struct_fmt).unpack_from\n",
    "            data = f.read(struct_len)\n",
    "            if not data: break   \n",
    "            s = struct_unpack(data)\n",
    "            conf.append(s) #SU(3) elements, i.e. 18 double (real) numbers"
   ]
  },
  {
   "cell_type": "code",
   "execution_count": 6,
   "id": "a9d0897d-758f-4f1c-b7aa-d41815f153a1",
   "metadata": {},
   "outputs": [
    {
     "name": "stdout",
     "output_type": "stream",
     "text": [
      "<class 'tuple'>\n",
      "No of elements 18\n",
      "Gauge link number 0 \n",
      "\n",
      "0.9999999816947751\n",
      "-2.1046916581415264e-05\n",
      "6.767495655440087e-06\n",
      "5.8969306768006096e-05\n",
      "-0.00014284456398598662\n",
      "0.00011063330860596459\n",
      "-6.794673856992322e-06\n",
      "5.8934795195258086e-05\n",
      "0.9999999414353727\n",
      "-0.00017034376507490303\n",
      "-0.00028965513125485\n",
      "-2.6318818447018218e-05\n",
      "0.00014282530168865373\n",
      "0.00011067489368239734\n",
      "0.0002896501303134642\n",
      "-2.630355138548846e-05\n",
      "0.999999923066265\n",
      "0.00019139067546929594\n",
      "SU(3) matrix\n",
      "(0.9999999816947751-2.1046916581415264e-05j) (-6.794673856992322e-06+5.8934795195258086e-05j) (0.00014282530168865373+0.00011067489368239734j) \n",
      "(6.767495655440087e-06+5.8969306768006096e-05j) (0.9999999414353727-0.00017034376507490303j) (0.0002896501303134642-2.630355138548846e-05j) \n",
      "(-0.00014284456398598662+0.00011063330860596459j) (-0.00028965513125485-2.6318818447018218e-05j) (0.999999923066265+0.00019139067546929594j) \n"
     ]
    }
   ],
   "source": [
    "n = 0\n",
    "print(type(conf[n]))\n",
    "N = len(conf[n])\n",
    "SU = SU3mat(conf[n])\n",
    "print('No of elements',N)\n",
    "print('Gauge link number',n,'\\n')\n",
    "for i in range(N):\n",
    "    print(conf[n][i])\n",
    "print('SU(3) matrix')\n",
    "for i in range(3):\n",
    "    for j in range(3):\n",
    "        print(SU[i,j],end=\" \")\n",
    "    print('')"
   ]
  },
  {
   "cell_type": "markdown",
   "id": "bb773691-956a-437d-8e71-4c4dae9213f2",
   "metadata": {},
   "source": [
    "$$\n",
    "\\gamma_3 = \\gamma_t = \\begin{pmatrix} \n",
    "0 & 0 & 1 & 0 \\\\\n",
    "0 & 0 & 0 & 1 \\\\\n",
    "1 & 0 & 0 & 0 \\\\\n",
    "0 & 1 & 0 & 0\n",
    "\\end{pmatrix}, \\quad \\gamma_2 = \\gamma_z = \\begin{pmatrix} \n",
    "0 & 0 & i & 0 \\\\\n",
    "0 & 0 & 0 & -i \\\\\n",
    "-i & 0 & 0 & 0 \\\\\n",
    "0 & i & 0 & 0\n",
    "\\end{pmatrix}, \\quad \\gamma_1 = \\gamma_y = \\begin{pmatrix} \n",
    "0 & 0 & 0 & -1 \\\\\n",
    "0 & 0 & 1 & 0 \\\\\n",
    "0 & 1 & 0 & 0 \\\\\n",
    "-1 & 0 & 0 & 0\n",
    "\\end{pmatrix}, \\quad \\gamma_0 = \\gamma_x = \\begin{pmatrix} \n",
    "0 & 0 & 0 & i \\\\\n",
    "0 & 0 & i & 0 \\\\\n",
    "0 & -i & 0 & 0 \\\\\n",
    "-i & 0 & 0 & 0\n",
    "\\end{pmatrix}\n",
    "$$"
   ]
  },
  {
   "cell_type": "code",
   "execution_count": 8,
   "id": "7eecc8aa-c03d-40f7-917a-8e4bf157d5cb",
   "metadata": {},
   "outputs": [
    {
     "name": "stdout",
     "output_type": "stream",
     "text": [
      "[[ 0.+0.j  0.+0.j  0.+0.j  0.+1.j]\n",
      " [ 0.+0.j  0.+0.j  0.+1.j  0.+0.j]\n",
      " [ 0.+0.j -0.-1.j  0.+0.j  0.+0.j]\n",
      " [-0.-1.j  0.+0.j  0.+0.j  0.+0.j]]\n",
      "[[ 0  0  0 -1]\n",
      " [ 0  0  1  0]\n",
      " [ 0  1  0  0]\n",
      " [-1  0  0  0]]\n",
      "[[ 0.+0.j  0.+0.j  0.+1.j  0.+0.j]\n",
      " [ 0.+0.j  0.+0.j  0.+0.j -0.-1.j]\n",
      " [-0.-1.j  0.+0.j  0.+0.j  0.+0.j]\n",
      " [ 0.+0.j  0.+1.j  0.+0.j  0.+0.j]]\n",
      "[[0 0 1 0]\n",
      " [0 0 0 1]\n",
      " [1 0 0 0]\n",
      " [0 1 0 0]]\n"
     ]
    }
   ],
   "source": [
    "#Dirac matrices\n",
    "gamma0 = np.array([[0,0,0,1j],[0,0,1j,0],[0,-1j,0,0],[-1j,0,0,0]])\n",
    "gamma1 = np.array([[0,0,0,-1],[0,0,1,0],[0,1,0,0],[-1,0,0,0]])\n",
    "gamma2 = np.array([[0,0,1j,0],[0,0,0,-1j],[-1j,0,0,0],[0,1j,0,0]])\n",
    "gamma3 = np.array([[0,0,1,0],[0,0,0,1],[1,0,0,0],[0,1,0,0]])\n",
    "print(gamma0)\n",
    "print(gamma1)\n",
    "print(gamma2)\n",
    "print(gamma3)\n",
    "gammaMatrices = [gamma0,gamma1,gamma2,gamma3]"
   ]
  },
  {
   "cell_type": "code",
   "execution_count": 9,
   "id": "30b2a86b-3749-4614-87b9-28f2b7d5a7ea",
   "metadata": {},
   "outputs": [],
   "source": [
    "#This allows us to identify the matrix rows or columns with the space-time and color coordinates (x,y,z,t,c,s)\n",
    "Indices = {'x':[],'y':[],'z':[],'t':[],'c':[],'s':[]}\n",
    "C, S = 3, 4 #Color (related to the dimension of U_mu) and S (related to the dimension of gamma)\n",
    "VectorCoords = []\n",
    "for t in range(Nt):\n",
    "    for z in range(Nz):\n",
    "        for y in range(Ny):\n",
    "            for x in range(Nx):\n",
    "                for mu in range(4):\n",
    "                    VectorCoords.append( t*Nz*Ny*Nx*4 + z*Ny*Nx*4 + y*Nx*4 + x*4 + mu)\n",
    "                for s in range(S):\n",
    "                    for c in range(C):\n",
    "                        #print(t*Nz*Ny*Nx*C*S + z*Ny*Nx*S*C + y*Nx*S*C + x*S*C + s*C + c) #Coordinates vectorization\n",
    "                        Indices['x'].append(x)\n",
    "                        Indices['y'].append(y)\n",
    "                        Indices['z'].append(z)\n",
    "                        Indices['t'].append(t)\n",
    "                        Indices['c'].append(c)\n",
    "                        Indices['s'].append(s)\n",
    "Indices['x'] = np.array(Indices['x'])\n",
    "Indices['y'] = np.array(Indices['y'])\n",
    "Indices['z'] = np.array(Indices['z'])\n",
    "Indices['t'] = np.array(Indices['t'])\n",
    "Indices['c'] = np.array(Indices['c'])\n",
    "Indices['s'] = np.array(Indices['s'])\n",
    "IdentityV = np.identity(Nx*Ny*Nz*Nt)\n",
    "I4 = np.identity(4)\n",
    "I3 = np.identity(3)\n",
    "VectorCoords = np.array(VectorCoords)"
   ]
  },
  {
   "cell_type": "code",
   "execution_count": 10,
   "id": "a9fa9ba0-4b92-4571-a30a-e209528d1e33",
   "metadata": {},
   "outputs": [],
   "source": [
    "#Kronecker delta. \n",
    "def kDelta(u,v):\n",
    "    \"\"\"\n",
    "    For scalars\n",
    "    \"\"\"\n",
    "    if u == v:\n",
    "        return 1\n",
    "    else:\n",
    "        return 0\n",
    "\n",
    "def kDeltaArr(u,v):\n",
    "    \"\"\"\n",
    "    For arrays\n",
    "    \"\"\"\n",
    "    if all(u == v):\n",
    "        return 1\n",
    "    else:\n",
    "        return 0\n",
    "\n",
    "def Coord(n,mu):\n",
    "    \"\"\"\n",
    "    returns a number for coordinate [nt,nz,ny,nz,mu]\n",
    "    This agrees with the configuration layout\n",
    "    \"\"\"\n",
    "    t,z,y,x = n\n",
    "    return t*Nz*Ny*Nx*4 + z*Ny*Nx*4 + y*Nx*4 + x*4 + mu\n",
    "\n",
    "def PeriodicBoundary(n,m,Dim):\n",
    "    \"\"\"\n",
    "    n+m with periodic boundary conditions\n",
    "    \"\"\"\n",
    "    Nx, Ny, Nz, Nt = Dim\n",
    "    return np.array([(n[0] + m[0])%Nx, (n[1] + m[1])%Ny, (n[2] + m[2])%Nz, (n[3] + m[3])%Nt])\n",
    "   \n",
    "\n",
    "def DiracEntry(alfa,beta,a,b,n,m,m0,h,Dim):\n",
    "    \"\"\"\n",
    "    alfa, beta: 0,1,2,3 (spin indices)\n",
    "    c, d: 0,1,2 (color indices)\n",
    "    n, m: 0,1,...,Nx Ny Nz Nt (volume)\n",
    "    m0: bare mass\n",
    "    h: lattice spacing\n",
    "    \"\"\"\n",
    "    #Conf[coord(n,mu)] gives U_mu(n)\n",
    "    #Dim = [Nx,Ny,Nz,Nt]\n",
    "    hat = [np.array([1,0,0,0]),np.array([0,1,0,0]),np.array([0,0,1,0]),np.array([0,0,0,1])] #[hat{x},hat{y},hat{z},hat{t}]\n",
    "    n = np.array([Indices['x'][n], Indices['y'][n], Indices['z'][n], Indices['t'][n]]) #n = [x,y,z,t]\n",
    "    m = np.array([Indices['x'][m], Indices['y'][m], Indices['z'][m], Indices['t'][m]]) #n = [x,y,z,t]\n",
    "    #Dnm = (m0+4)/h * kDelta(alfa,beta)*kDelta(a,b)*kDeltaArr(n,m)\n",
    "    Dnm = (m0+4)/h * I4[alfa,beta]*I3[a,b]*kDeltaArr(n,m)\n",
    "    #sum over mu\n",
    "    for mu in range(4):\n",
    "        n_mu = PeriodicBoundary(n,-hat[mu],Dim) #n-hat{mu} with periodic boundary\n",
    "        n_pmu = PeriodicBoundary(n,hat[mu],Dim) #n+hat{mu} with periodic boundary\n",
    "        if kDeltaArr(n_pmu,m) != 0 or kDeltaArr(n_mu,m) != 0:\n",
    "            Un = conf[Coord(n,mu)] #SU3mat(conf[Coord(n,mu)]) #U_mu(n)\n",
    "            Un_mu = conf[Coord(n_mu,mu)] #SU3mat(conf[Coord(n_mu,mu)]) #U_mu(n-hat{mu})\n",
    "            \n",
    "            #SU[i,j] = U[2*(i+j*3)] + 1j*U[2*(i+j*3)+1]\n",
    "            Unab = Un[2*(a+b*3)] + 1j*Un[2*(a+b*3)+1] #U_mu(n)[a,b]\n",
    "            Un_mu_ba = Un_mu[2*(b+a*3)] + 1j*Un_mu[2*(b+a*3)+1] #U^dagger_m(n-hat{mu})[a,b]\n",
    "            \n",
    "            Dnm += -1 / (2*h) * (I4-gammaMatrices[mu])[alfa,beta] * Unab * kDeltaArr(n_pmu,m) #delta n+mu,m\n",
    "            Dnm += -1 / (2*h) * (I4+gammaMatrices[mu])[alfa,beta] * np.conjugate(Un_mu_ba) * kDeltaArr(n_mu,m) #delta n-mu,m\n",
    "    return Dnm\n",
    "\n",
    "def DiracMatrixNonZero(Nt,Nx,Ny,Nz,m0=1,h=1):\n",
    "    N = 12*Nt*Nx*Ny*Nz\n",
    "    Dim = np.array([Nx,Ny,Nz,Nt])\n",
    "    row, col, D = [], [], []\n",
    "    for n in range(N):\n",
    "        xn, yn, zn, tn = Indices['x'][n], Indices['y'][n], Indices['z'][n], Indices['t'][n]\n",
    "        cn, sn = Indices['c'][n], Indices['s'][n] \n",
    "        for m in range(N):\n",
    "            xm, ym, zm, tm = Indices['x'][m], Indices['y'][m], Indices['z'][m], Indices['t'][m]\n",
    "            cm, sm = Indices['c'][m], Indices['s'][m] \n",
    "            Dnm = DiracEntry(sn,sm,cn,cm,n,m,m0,h,Dim)\n",
    "            if abs(Dnm)>1e-12:\n",
    "                row.append(n)\n",
    "                col.append(m) \n",
    "                D.append(Dnm)        \n",
    "    return np.array(row), np.array(col), np.array(D)"
   ]
  },
  {
   "cell_type": "code",
   "execution_count": 11,
   "id": "58ba8409-e5d4-455d-aadc-8ce84a30ce95",
   "metadata": {},
   "outputs": [
    {
     "name": "stdout",
     "output_type": "stream",
     "text": [
      "Time=307.65963339805603 s\n"
     ]
    }
   ],
   "source": [
    "start = time.time()\n",
    "row, col, D = DiracMatrixNonZero(Nt,Nx,Ny,Nz)\n",
    "end = time.time()\n",
    "print('Time={0} s'.format(end - start))"
   ]
  },
  {
   "cell_type": "code",
   "execution_count": 12,
   "id": "27e9b9b8-d657-46fc-b492-415a9451e954",
   "metadata": {},
   "outputs": [],
   "source": [
    "Dsparse = csr_array((D, (row, col)))"
   ]
  },
  {
   "cell_type": "code",
   "execution_count": 13,
   "id": "77ed7226-7a5c-475b-bf5d-fc1821eae350",
   "metadata": {},
   "outputs": [
    {
     "data": {
      "image/png": "[encoded data removed]",
      "text/plain": [
       "<Figure size 640x480 with 1 Axes>"
      ]
     },
     "metadata": {},
     "output_type": "display_data"
    }
   ],
   "source": [
    "#Sparsity pattern. This could take a couple of seconds \n",
    "fig = plt.figure()\n",
    "plt.spy(Dsparse)\n",
    "plt.title(\"Sparsity pattern of the Dirac matrix\")\n",
    "plt.xlabel(\"row\")\n",
    "plt.ylabel(\"column\")\n",
    "plt.show()"
   ]
  },
  {
   "cell_type": "code",
   "execution_count": 14,
   "id": "41c96c3c-4865-46c7-bb0b-2386ee8548ac",
   "metadata": {},
   "outputs": [
    {
     "data": {
      "text/plain": [
       "150528"
      ]
     },
     "execution_count": 14,
     "metadata": {},
     "output_type": "execute_result"
    }
   ],
   "source": [
    "#150528 for Nx=Ny=Nz=Nt = 4\n",
    "len(D)"
   ]
  },
  {
   "cell_type": "code",
   "execution_count": 15,
   "id": "ed78f454-4be5-4b68-a1b5-6bfd80b8bdf7",
   "metadata": {
    "scrolled": true
   },
   "outputs": [
    {
     "name": "stdout",
     "output_type": "stream",
     "text": [
      "0 0 (5+0j)\n",
      "0 12 (-0.49999999084738755+1.0523458290707632e-05j)\n",
      "0 13 (3.397336928496161e-06-2.9467397597629043e-05j)\n",
      "0 14 (-7.141265084432686e-05-5.533744684119867e-05j)\n",
      "0 21 (1.0523458290707632e-05+0.49999999084738755j)\n",
      "0 22 (-2.9467397597629043e-05-3.397336928496161e-06j)\n",
      "0 23 (-5.533744684119867e-05+7.141265084432686e-05j)\n",
      "0 36 (-0.4999999894821125+5.833024290791429e-05j)\n",
      "0 37 (-3.3238540298160056e-05-2.2050404503484887e-05j)\n",
      "0 38 (-2.8207712979047373e-05+6.876608296668308e-05j)\n",
      "0 45 (-5.833024290791429e-05-0.4999999894821125j)\n",
      "0 46 (2.2050404503484887e-05-3.3238540298160056e-05j)\n",
      "0 47 (-6.876608296668308e-05-2.8207712979047373e-05j)\n",
      "0 48 (-0.49999989321940236+0.00014973529772591325j)\n",
      "0 49 (9.857075934838036e-05-0.00012163488025459902j)\n",
      "0 50 (4.604505973703784e-05+0.00024026764378796235j)\n",
      "0 57 (-0.49999989321940236+0.00014973529772591325j)\n",
      "0 58 (9.857075934838036e-05-0.00012163488025459902j)\n",
      "0 59 (4.604505973703784e-05+0.00024026764378796235j)\n",
      "0 144 (-0.49999997665675816+3.2515721752395455e-05j)\n",
      "0 145 (1.8503010207727667e-05-5.493536251768794e-05j)\n",
      "0 146 (-0.00010246634455916155+9.179521720013621e-05j)\n",
      "0 153 (0.49999997665675816-3.2515721752395455e-05j)\n",
      "0 154 (-1.8503010207727667e-05+5.493536251768794e-05j)\n",
      "0 155 (0.00010246634455916155-9.179521720013621e-05j)\n",
      "0 192 (-0.49999997934755513+7.96365802136747e-05j)\n",
      "0 193 (1.8339484985870418e-05-1.7410258955005555e-05j)\n",
      "0 194 (-8.380536822885606e-05-8.153321964653583e-05j)\n",
      "0 198 (7.96365802136747e-05+0.49999997934755513j)\n",
      "0 199 (-1.7410258955005555e-05-1.8339484985870418e-05j)\n",
      "0 200 (-8.153321964653583e-05+8.380536822885606e-05j)\n",
      "0 576 (-0.4999999750257253-1.1007217297974463e-05j)\n",
      "0 577 (-8.652546276123396e-05-5.90943746189822e-05j)\n",
      "0 578 (-0.00010074908500523578+6.1024063059320566e-05j)\n",
      "0 582 (1.1007217297974463e-05-0.4999999750257253j)\n",
      "0 583 (5.90943746189822e-05-8.652546276123396e-05j)\n",
      "0 584 (-6.1024063059320566e-05-0.00010074908500523578j)\n",
      "0 768 (-0.4999999775331228+3.645349491470207e-05j)\n",
      "0 769 (-4.358378867057407e-06+0.00010660967580622172j)\n",
      "0 770 (-3.3104684033799215e-05-9.304558467516977e-05j)\n",
      "0 774 (0.4999999775331228-3.645349491470207e-05j)\n",
      "0 775 (4.358378867057407e-06-0.00010660967580622172j)\n",
      "0 776 (3.3104684033799215e-05+9.304558467516977e-05j)\n",
      "0 2304 (-0.4999999968150646+2.722814684617553e-05j)\n",
      "0 2305 (-1.3270067300807898e-05-4.161311100090424e-05j)\n",
      "0 2306 (-8.11868086888694e-06-2.1677286460155187e-05j)\n",
      "0 2310 (-0.4999999968150646+2.722814684617553e-05j)\n",
      "0 2311 (-1.3270067300807898e-05-4.161311100090424e-05j)\n",
      "0 2312 (-8.11868086888694e-06-2.1677286460155187e-05j)\n",
      "1 1 (5+0j)\n",
      "1 12 (-3.3837478277200435e-06-2.9484653384003048e-05j)\n",
      "1 13 (-0.49999997071768637+8.517188253745151e-05j)\n",
      "1 14 (-0.0001448250651567321+1.315177569274423e-05j)\n",
      "1 21 (-2.9484653384003048e-05+3.3837478277200435e-06j)\n",
      "1 22 (8.517188253745151e-05+0.49999997071768637j)\n",
      "1 23 (1.315177569274423e-05+0.0001448250651567321j)\n",
      "1 36 (3.323889142598612e-05-2.2059523975933267e-05j)\n",
      "1 37 (-0.49999999678719037+4.5798591948793874e-07j)\n",
      "1 38 (2.4915640483099843e-05+3.1628535573860756e-05j)\n",
      "1 45 (2.2059523975933267e-05+3.323889142598612e-05j)\n",
      "1 46 (-4.5798591948793874e-07-0.49999999678719037j)\n",
      "1 47 (-3.1628535573860756e-05+2.4915640483099843e-05j)\n",
      "1 48 (-9.8499315703699e-05-0.0001216914113842668j)\n",
      "1 49 (-0.4999999189112934-0.00013835391726054955j)\n",
      "1 50 (0.00014647924133720714+0.00012641127552680227j)\n",
      "1 57 (-9.8499315703699e-05-0.0001216914113842668j)\n",
      "1 58 (-0.4999999189112934-0.00013835391726054955j)\n",
      "1 59 (0.00014647924133720714+0.00012641127552680227j)\n",
      "1 144 (-1.8500495660606565e-05-5.4932139110353535e-05j)\n",
      "1 145 (-0.49999997096048276-0.00015291938644454277j)\n",
      "1 146 (1.0383705160549676e-05-4.677123162080003e-05j)\n",
      "1 153 (1.8500495660606565e-05+5.4932139110353535e-05j)\n",
      "1 154 (0.49999997096048276+0.00015291938644454277j)\n",
      "1 155 (-1.0383705160549676e-05+4.677123162080003e-05j)\n",
      "1 192 (-1.833306682880475e-05-1.7403199078750334e-05j)\n",
      "1 193 (-0.4999999975114726-3.5612063314855503e-06j)\n",
      "1 194 (-1.5053570207052632e-05-4.012807628573216e-05j)\n",
      "1 198 (-1.7403199078750334e-05+1.833306682880475e-05j)\n",
      "1 199 (-3.5612063314855503e-06+0.4999999975114726j)\n",
      "1 200 (-4.012807628573216e-05+1.5053570207052632e-05j)\n",
      "1 576 (8.653214790881565e-05-5.908464271809899e-05j)\n",
      "1 577 (-0.499999987924083-3.0304320556600134e-05j)\n",
      "1 578 (-1.2220746384668843e-05-5.4231689129662654e-06j)\n",
      "1 582 (5.908464271809899e-05+8.653214790881565e-05j)\n",
      "1 583 (3.0304320556600134e-05-0.499999987924083j)\n",
      "1 584 (5.4231689129662654e-06-1.2220746384668843e-05j)\n",
      "1 768 (4.378212788172592e-06+0.00010661784297337127j)\n",
      "1 769 (-0.49999998421129255+4.7759105765106317e-05j)\n",
      "1 770 (3.9271819189221364e-05-2.4061715560597387e-05j)\n",
      "1 774 (-4.378212788172592e-06-0.00010661784297337127j)\n",
      "1 775 (0.49999998421129255-4.7759105765106317e-05j)\n",
      "1 776 (-3.9271819189221364e-05+2.4061715560597387e-05j)\n",
      "1 2304 (1.3259379081412632e-05-4.161905642250704e-05j)\n",
      "1 2305 (-0.4999999805649877+0.00012013362639811825j)\n",
      "1 2306 (-5.313839475785246e-05-1.647051248182587e-05j)\n",
      "1 2310 (1.3259379081412632e-05-4.161905642250704e-05j)\n",
      "1 2311 (-0.4999999805649877+0.00012013362639811825j)\n",
      "1 2312 (-5.313839475785246e-05-1.647051248182587e-05j)\n",
      "2 2 (5+0j)\n",
      "2 12 (7.142228199299331e-05-5.5316654302982295e-05j)\n"
     ]
    }
   ],
   "source": [
    "for i in range(100):\n",
    "    print(row[i],col[i],D[i])"
   ]
  },
  {
   "cell_type": "code",
   "execution_count": null,
   "id": "8cb9a00a-44e7-4cf3-83d5-196d06698341",
   "metadata": {},
   "outputs": [],
   "source": []
  }
 ],
 "metadata": {
  "kernelspec": {
   "display_name": "Python 3 (ipykernel)",
   "language": "python",
   "name": "python3"
  },
  "language_info": {
   "codemirror_mode": {
    "name": "ipython",
    "version": 3
   },
   "file_extension": ".py",
   "mimetype": "text/x-python",
   "name": "python",
   "nbconvert_exporter": "python",
   "pygments_lexer": "ipython3",
   "version": "3.11.7"
  }
 },
 "nbformat": 4,
 "nbformat_minor": 5
}
