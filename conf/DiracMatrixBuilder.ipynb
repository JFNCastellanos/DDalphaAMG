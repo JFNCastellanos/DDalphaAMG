{
 "cells": [
  {
   "cell_type": "code",
   "execution_count": 135,
   "id": "e4583165-9d0a-498a-b5c7-849a242cfa97",
   "metadata": {},
   "outputs": [],
   "source": [
    "import numpy as np\n",
    "import struct as struct\n",
    "from struct import unpack"
   ]
  },
  {
   "cell_type": "code",
   "execution_count": 136,
   "id": "453f471d-7bf6-4893-b959-67c8f573b1d2",
   "metadata": {},
   "outputs": [
    {
     "name": "stdout",
     "output_type": "stream",
     "text": [
      "Lattice dimensions Nt=4, Nz=4, Ny=4, Nx=4\n"
     ]
    }
   ],
   "source": [
    "filename = 'random/4x4x4x4_random'\n",
    "conf = []\n",
    "count = 0\n",
    "with open(filename, \"rb\") as f:\n",
    "    while True:\n",
    "        if count == 0:\n",
    "            struct_fmt = '=4id' \n",
    "            struct_len = struct.calcsize(struct_fmt)\n",
    "            struct_unpack = struct.Struct(struct_fmt).unpack_from #reads lattice dimensions and plaquete 0.0\n",
    "            count += 1\n",
    "            data = f.read(struct_len)\n",
    "            s = struct_unpack(data)\n",
    "            print('Lattice dimensions Nt={0}, Nz={1}, Ny={2}, Nx={3}'.format(s[0],s[1],s[2],s[3]))\n",
    "        elif count == 1:\n",
    "            struct_fmt = '=18d' \n",
    "            struct_len = struct.calcsize(struct_fmt)\n",
    "            struct_unpack = struct.Struct(struct_fmt).unpack_from\n",
    "            data = f.read(struct_len)\n",
    "            if not data: break   \n",
    "            s = struct_unpack(data)\n",
    "            conf.append(s) #SU(3) elements, i.e. 18 double (real) numbers"
   ]
  },
  {
   "cell_type": "code",
   "execution_count": 137,
   "id": "a9d0897d-758f-4f1c-b7aa-d41815f153a1",
   "metadata": {},
   "outputs": [
    {
     "name": "stdout",
     "output_type": "stream",
     "text": [
      "<class 'tuple'>\n",
      "No of elements 18\n",
      "Gauge link number 0 \n",
      "\n",
      "0.9999999746315572\n",
      "0.00013385364474259603\n",
      "1.6921136397110694e-05\n",
      "-8.287776989964238e-05\n",
      "-0.00011064133983748479\n",
      "0.00011585996258985477\n",
      "-1.6924289310571552e-05\n",
      "-8.288589022153253e-05\n",
      "0.9999999923955478\n",
      "-4.539150007683379e-05\n",
      "-7.509335709422385e-05\n",
      "1.8788331263353676e-05\n",
      "0.00011063636640867454\n",
      "0.00011585844239530272\n",
      "7.510734575802598e-05\n",
      "1.8771069508758602e-05\n",
      "0.999999980258699\n",
      "-8.846214467548891e-05\n"
     ]
    }
   ],
   "source": [
    "n = 0\n",
    "print(type(conf[n]))\n",
    "N = len(conf[n])\n",
    "print('No of elements',N)\n",
    "print('Gauge link number',n,'\\n')\n",
    "for i in range(N):\n",
    "    print(conf[n][i])"
   ]
  },
  {
   "cell_type": "markdown",
   "id": "bb773691-956a-437d-8e71-4c4dae9213f2",
   "metadata": {},
   "source": [
    "$$\n",
    "\\gamma_3 = \\gamma_t = \\begin{pmatrix} \n",
    "0 & 0 & 1 & 0 \\\\\n",
    "0 & 0 & 0 & 1 \\\\\n",
    "1 & 0 & 0 & 0 \\\\\n",
    "0 & 1 & 0 & 0\n",
    "\\end{pmatrix}, \\quad \\gamma_2 = \\gamma_z = \\begin{pmatrix} \n",
    "0 & 0 & i & 0 \\\\\n",
    "0 & 0 & 0 & -i \\\\\n",
    "-i & 0 & 0 & 0 \\\\\n",
    "0 & i & 0 & 0\n",
    "\\end{pmatrix}, \\quad \\gamma_1 = \\gamma_y = \\begin{pmatrix} \n",
    "0 & 0 & 0 & -1 \\\\\n",
    "0 & 0 & 1 & 0 \\\\\n",
    "0 & 1 & 0 & 0 \\\\\n",
    "-1 & 0 & 0 & 0\n",
    "\\end{pmatrix}, \\quad \\gamma_0 = \\gamma_x = \\begin{pmatrix} \n",
    "0 & 0 & 0 & i \\\\\n",
    "0 & 0 & i & 0 \\\\\n",
    "0 & -i & 0 & 0 \\\\\n",
    "-i & 0 & 0 & 0\n",
    "\\end{pmatrix}\n",
    "$$"
   ]
  },
  {
   "cell_type": "code",
   "execution_count": 142,
   "id": "7eecc8aa-c03d-40f7-917a-8e4bf157d5cb",
   "metadata": {
    "scrolled": true
   },
   "outputs": [
    {
     "name": "stdout",
     "output_type": "stream",
     "text": [
      "[[ 0.+0.j  0.+0.j  0.+0.j  0.+1.j]\n",
      " [ 0.+0.j  0.+0.j  0.+1.j  0.+0.j]\n",
      " [ 0.+0.j -0.-1.j  0.+0.j  0.+0.j]\n",
      " [-0.-1.j  0.+0.j  0.+0.j  0.+0.j]]\n",
      "[[ 0  0  0 -1]\n",
      " [ 0  0  1  0]\n",
      " [ 0  1  0  0]\n",
      " [-1  0  0  0]]\n",
      "[[ 0.+0.j  0.+0.j  0.+1.j  0.+0.j]\n",
      " [ 0.+0.j  0.+0.j  0.+0.j -0.-1.j]\n",
      " [-0.-1.j  0.+0.j  0.+0.j  0.+0.j]\n",
      " [ 0.+0.j  0.+1.j  0.+0.j  0.+0.j]]\n",
      "[[0 0 1 0]\n",
      " [0 0 0 1]\n",
      " [1 0 0 0]\n",
      " [0 1 0 0]]\n"
     ]
    }
   ],
   "source": [
    "#Dirac matrices\n",
    "gamma0 = np.array([[0,0,0,1j],[0,0,1j,0],[0,-1j,0,0],[-1j,0,0,0]])\n",
    "gamma1 = np.array([[0,0,0,-1],[0,0,1,0],[0,1,0,0],[-1,0,0,0]])\n",
    "gamma2 = np.array([[0,0,1j,0],[0,0,0,-1j],[-1j,0,0,0],[0,1j,0,0]])\n",
    "gamma3 = np.array([[0,0,1,0],[0,0,0,1],[1,0,0,0],[0,1,0,0]])\n",
    "print(gamma0)\n",
    "print(gamma1)\n",
    "print(gamma2)\n",
    "print(gamma3)\n",
    "gammaMatrices = [gamma0,gamma1,gamma2,gamma3]"
   ]
  },
  {
   "cell_type": "code",
   "execution_count": 149,
   "id": "a9fa9ba0-4b92-4571-a30a-e209528d1e33",
   "metadata": {},
   "outputs": [],
   "source": [
    "#Kronecker delta. This also works in 4d as long as u = [ux,uy,uz,ut], y = [vx,vy,vz,v]\n",
    "def kDelta(u,v):\n",
    "    if u == v:\n",
    "        return 1\n",
    "    else:\n",
    "        return 0\n",
    "\n",
    "def DiracEntry(alfa,beta,a,b,n,m,m0,h):\n",
    "    \"\"\"\n",
    "    alfa, beta: 0,1,2,3 (spin indices)\n",
    "    c, d: 0,1,2 (color indices)\n",
    "    n, m: 0,1,...,Nx Ny Nz Nt (volume)\n",
    "    m0: bare mass\n",
    "    h: lattice spacing\n",
    "    \"\"\"\n",
    "    #Conf[coord(n,mu)] gives U_mu(n)\n",
    "    I = np.identity(4)\n",
    "    hat = [np.array([1,0,0,0]),np.array([0,1,0,0]),np.array([0,0,1,0]),np.array([0,0,0,1])]\n",
    "    Dnm = (m0+4)/a * kDelta(alfa,beta)*kDelta(a,b)*kDelta(n,m)\n",
    "    #sum over mu\n",
    "    for mu in range(4):\n",
    "        Dnm += -0.5 * a * (I-gammaMatrices[mu])[alfa,beta] * conf[coord(n,mu)][a,b] * kDelta(n+hat[mu],m) \n",
    "        Dnm += -0.5 * a * (I+gammaMatrices[mu])[alfa,beta] * conf[coord(n-hat[mu],mu)][b,a].conj() * kDelta(n-hat[mu],m)\n",
    "    return Dnm\n",
    "\n",
    "def DiracMatrix(Nt,Nx,Ny,Nz):\n",
    "    #D = np.zeros((12*Nt*Nx*Ny*Nz,12*Nt*Nx*Ny*Nz))\n",
    "    for t in range(Nt):\n",
    "        for z in range(Nz):\n",
    "            for y in range(Ny):\n",
    "                for x in range(Nx):\n",
    "                    for alfa in range(4):\n",
    "                        for beta in range(4):\n",
    "                            for a in range(3):\n",
    "                                for b in range(3):\n",
    "                                    DiracEntry(alfa,beta,a,b,n,m,m0,h)"
   ]
  },
  {
   "cell_type": "code",
   "execution_count": 165,
   "id": "cd28eec5-f2be-480a-954a-5d1f385e711f",
   "metadata": {
    "scrolled": true
   },
   "outputs": [],
   "source": [
    "#This allows us to identify the matrix rows or columns with the space-time and color coordinates (x,y,z,t,c,s)\n",
    "Indices = {'x':[],'y':[],'z':[],'t':[],'c':[],'s':[]}\n",
    "C, S = 3, 4 #Color (related to the dimension of U_mu) and S (related to the dimension of gamma)\n",
    "Nt, Nx, Ny, Nz = 4, 4, 4, 4\n",
    "for t in range(Nt):\n",
    "    for z in range(Nz):\n",
    "        for y in range(Ny):\n",
    "            for x in range(Nx):\n",
    "                for s in range(S):\n",
    "                    for c in range(C):\n",
    "                        #print(t*Nz*Ny*Nx*C*S + z*Ny*Nx*S*C + y*Nx*S*C + x*S*C + s*C + c) #Coordinates vectorization\n",
    "                        Indices['x'].append(x)\n",
    "                        Indices['y'].append(y)\n",
    "                        Indices['z'].append(z)\n",
    "                        Indices['t'].append(t)\n",
    "                        Indices['c'].append(c)\n",
    "                        Indices['s'].append(s)"
   ]
  },
  {
   "cell_type": "code",
   "execution_count": null,
   "id": "4338376f-7a8b-436e-8a97-bbd959600b62",
   "metadata": {},
   "outputs": [],
   "source": [
    "#This allows us to identify the matrix rows or columns with the space-time and color coordinates (x,y,z,t,c,s)\n",
    "Indices = {'x':[],'y':[],'z':[],'t':[],'c':[],'s':[]}\n",
    "C, S = 3, 4 #Color (related to the dimension of U_mu) and S (related to the dimension of gamma)\n",
    "for x in range(Ns):\n",
    "    for y in range(Ns):\n",
    "        for z in range(Ns):\n",
    "            for t in range(Nt):\n",
    "                for c in range(C):\n",
    "                    for s in range(S):\n",
    "                        #print(x*Ns*Ns*Nt*C*S + y*Ns*Nt*C*S + z*Nt*C*S + t*C*S + c*S + s) Coordinates vectorization\n",
    "                        Indices['x'].append(x)\n",
    "                        Indices['y'].append(y)\n",
    "                        Indices['z'].append(z)\n",
    "                        Indices['t'].append(t)\n",
    "                        Indices['c'].append(c)\n",
    "                        Indices['s'].append(s)"
   ]
  }
 ],
 "metadata": {
  "kernelspec": {
   "display_name": "Python 3 (ipykernel)",
   "language": "python",
   "name": "python3"
  },
  "language_info": {
   "codemirror_mode": {
    "name": "ipython",
    "version": 3
   },
   "file_extension": ".py",
   "mimetype": "text/x-python",
   "name": "python",
   "nbconvert_exporter": "python",
   "pygments_lexer": "ipython3",
   "version": "3.11.9"
  }
 },
 "nbformat": 4,
 "nbformat_minor": 5
}
